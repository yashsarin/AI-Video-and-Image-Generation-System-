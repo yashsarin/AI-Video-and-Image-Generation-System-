{
 "cells": [
  {
   "cell_type": "markdown",
   "id": "704217c9-9d0d-4327-a055-bbc75a745d4c",
   "metadata": {},
   "source": [
    "# part 1 Text-to-Video and Text-to-Image Generation"
   ]
  },
  {
   "cell_type": "code",
   "execution_count": 2,
   "id": "bda48e88-6f4b-4a5f-9028-892ea71c0b40",
   "metadata": {},
   "outputs": [
    {
     "name": "stdout",
     "output_type": "stream",
     "text": [
      "Defaulting to user installation because normal site-packages is not writeable\n",
      "Requirement already satisfied: flask in c:\\users\\yashs\\appdata\\roaming\\python\\python311\\site-packages (3.0.3)\n",
      "Requirement already satisfied: Werkzeug>=3.0.0 in c:\\users\\yashs\\appdata\\roaming\\python\\python311\\site-packages (from flask) (3.0.3)\n",
      "Requirement already satisfied: Jinja2>=3.1.2 in c:\\users\\yashs\\appdata\\roaming\\python\\python311\\site-packages (from flask) (3.1.4)\n",
      "Requirement already satisfied: itsdangerous>=2.1.2 in c:\\users\\yashs\\appdata\\roaming\\python\\python311\\site-packages (from flask) (2.2.0)\n",
      "Requirement already satisfied: click>=8.1.3 in c:\\users\\yashs\\appdata\\roaming\\python\\python311\\site-packages (from flask) (8.1.7)\n",
      "Requirement already satisfied: blinker>=1.6.2 in c:\\users\\yashs\\appdata\\roaming\\python\\python311\\site-packages (from flask) (1.8.2)\n",
      "Requirement already satisfied: colorama in c:\\users\\yashs\\appdata\\roaming\\python\\python311\\site-packages (from click>=8.1.3->flask) (0.4.6)\n",
      "Requirement already satisfied: MarkupSafe>=2.0 in c:\\users\\yashs\\appdata\\roaming\\python\\python311\\site-packages (from Jinja2>=3.1.2->flask) (2.1.5)\n",
      "Note: you may need to restart the kernel to use updated packages.\n"
     ]
    }
   ],
   "source": [
    "pip install flask"
   ]
  },
  {
   "cell_type": "code",
   "execution_count": 3,
   "id": "eebcaf2e-1e04-45f3-b1d8-6a8eb0300bcb",
   "metadata": {},
   "outputs": [],
   "source": [
    "import os\n",
    "import datetime\n",
    "import requests\n",
    "import json\n",
    "import sqlite3\n",
    "from flask import Flask, request, render_template"
   ]
  },
  {
   "cell_type": "code",
   "execution_count": 6,
   "id": "2871fa5a-7cbb-441a-a50b-c2d9cb4a2aea",
   "metadata": {},
   "outputs": [],
   "source": [
    "def generate_videos(prompt, user_id, output_dir=\"generated_content\"):\n",
    "    video_paths = []\n",
    "    directory = os.path.join(output_dir, user_id)\n",
    "    os.makedirs(directory, exist_ok=True)"
   ]
  },
  {
   "cell_type": "code",
   "execution_count": null,
   "id": "2172c41e-d857-4855-978c-73e66e6395e3",
   "metadata": {},
   "outputs": [],
   "source": [
    "# Function to generate videos"
   ]
  },
  {
   "cell_type": "code",
   "execution_count": 8,
   "id": "20ffdb76-e6f9-4bb2-b126-b84eee772486",
   "metadata": {},
   "outputs": [],
   "source": [
    "def generate_videos(prompt, user_id, output_dir=\"generated_content\"):\n",
    "    video_paths = []\n",
    "    directory = os.path.join(output_dir, user_id)\n",
    "    os.makedirs(directory, exist_ok=True)\n",
    "\n",
    "    for i in range(5):\n",
    "        # Replace this URL with the actual API endpoint for video generation\n",
    "        api_url = \"https://actual-video-api.com/generate\"\n",
    "        response = requests.post(api_url, json={\"prompt\": prompt})\n",
    "        \n",
    "        if response.status_code == 200:\n",
    "            video_path = os.path.join(directory, f\"video_{i+1}.mp4\")\n",
    "            with open(video_path, \"wb\") as f:\n",
    "                f.write(response.content)\n",
    "            video_paths.append(video_path)\n",
    "        else:\n",
    "            print(f\"Failed to generate video {i+1}: {response.status_code}, {response.text}\")\n",
    "    \n",
    "    return video_paths\n"
   ]
  },
  {
   "cell_type": "code",
   "execution_count": null,
   "id": "b3a7b087-711d-46bc-b0a8-c3213ef33019",
   "metadata": {},
   "outputs": [],
   "source": [
    "# Function to generate images"
   ]
  },
  {
   "cell_type": "code",
   "execution_count": 10,
   "id": "33d13be6-2bf7-4396-9b74-a6687040ad81",
   "metadata": {},
   "outputs": [],
   "source": [
    "def generate_images(prompt, user_id, output_dir=\"generated_content\"):\n",
    "    image_paths = []\n",
    "    directory = os.path.join(output_dir, user_id)\n",
    "    os.makedirs(directory, exist_ok=True)\n",
    "\n",
    "    for i in range(5):\n",
    "        # Replace this URL with the actual API endpoint for image generation\n",
    "        api_url = \"https://actual-image-api.com/generate\"\n",
    "        response = requests.post(api_url, json={\"prompt\": prompt})\n",
    "        \n",
    "        if response.status_code == 200:\n",
    "            image_path = os.path.join(directory, f\"image_{i+1}.jpg\")\n",
    "            with open(image_path, \"wb\") as f:\n",
    "                f.write(response.content)\n",
    "            image_paths.append(image_path)\n",
    "        else:\n",
    "            print(f\"Failed to generate image {i+1}: {response.status_code}, {response.text}\")\n",
    "    return image_paths"
   ]
  },
  {
   "cell_type": "code",
   "execution_count": null,
   "id": "82aab032-93e8-4fa6-9112-e52ed6b6ae97",
   "metadata": {},
   "outputs": [],
   "source": [
    "# Main function"
   ]
  },
  {
   "cell_type": "code",
   "execution_count": 12,
   "id": "f2f6ba1b-9981-4fd8-9d27-2c9397d5af76",
   "metadata": {},
   "outputs": [],
   "source": [
    "def main(prompt, user_id):\n",
    "    videos = generate_videos(prompt, user_id)\n",
    "    images = generate_images(prompt, user_id)\n",
    "    return videos, images"
   ]
  },
  {
   "cell_type": "code",
   "execution_count": 14,
   "id": "d578bb1d-f728-406e-abc1-93ef80711de3",
   "metadata": {},
   "outputs": [],
   "source": [
    "import requests\n",
    "import os\n",
    "\n",
    "def generate_videos(prompt, user_id, output_dir=\"generated_content\"):\n",
    "    video_paths = []\n",
    "    directory = os.path.join(output_dir, user_id)\n",
    "    os.makedirs(directory, exist_ok=True)\n",
    "\n",
    "    for i in range(5):\n",
    "        # Replace this with the correct API endpoint\n",
    "        api_url = \"https://actual-video-api.com/generate\"\n",
    "        try:\n",
    "            response = requests.post(api_url, json={\"prompt\": prompt}, timeout=10)\n",
    "            response.raise_for_status()  # Raise an HTTPError for bad responses\n",
    "            video_path = os.path.join(directory, f\"video_{i+1}.mp4\")\n",
    "            with open(video_path, \"wb\") as f:\n",
    "                f.write(response.content)\n",
    "            video_paths.append(video_path)\n",
    "        except requests.exceptions.RequestException as e:\n",
    "            print(f\"Failed to generate video {i+1}: {e}\")\n",
    "    \n",
    "    return video_paths\n"
   ]
  },
  {
   "cell_type": "markdown",
   "id": "8cd8229e-a89a-4989-8491-8cd3a1407611",
   "metadata": {},
   "source": [
    "# Part 2: Storing and Managing Content"
   ]
  },
  {
   "cell_type": "code",
   "execution_count": 30,
   "id": "609a6d19-58ef-4212-b5fb-6666ce70ac7a",
   "metadata": {},
   "outputs": [
    {
     "name": "stdout",
     "output_type": "stream",
     "text": [
      "Starting the connection process...\n",
      "Attempting to connect to the database...\n",
      "Database connected and journal mode set to WAL.\n",
      "Creating table 'content_data'...\n",
      "Simulating content generation...\n",
      "Failed to execute content generation: name 'generate_content' is not defined\n",
      "Closing the database connection.\n"
     ]
    }
   ],
   "source": [
    "db_name = \":memory:\"  \n",
    "import sqlite3\n",
    "from datetime import datetime\n",
    "import time\n",
    "\n",
    "# Define the database name before using it\n",
    "db_name = \":memory:\"  # In-memory SQLite database for testing\n",
    "\n",
    "def connect_to_db():\n",
    "    \"\"\"Function to handle database connection and retry if locked.\"\"\"\n",
    "    attempt = 0\n",
    "    while attempt < 5:  # Retry up to 5 times\n",
    "        try:\n",
    "            print(\"Attempting to connect to the database...\")\n",
    "            conn = sqlite3.connect(db_name, timeout=120)  # Increase timeout to 120 seconds for more waiting time\n",
    "            cursor = conn.cursor()\n",
    "            # Set PRAGMA journal mode once when the connection is established\n",
    "            cursor.execute(\"PRAGMA journal_mode=WAL;\")\n",
    "            print(\"Database connected and journal mode set to WAL.\")\n",
    "            return conn, cursor\n",
    "        except sqlite3.OperationalError as e:\n",
    "            attempt += 1\n",
    "            print(f\"Error connecting to database or setting PRAGMA: {e}. Retrying... (Attempt {attempt})\")\n",
    "            time.sleep(2 ** attempt)  # Exponential backoff\n",
    "\n",
    "    raise Exception(\"Failed to connect to the database after multiple attempts.\")\n",
    "\n",
    "# Try connecting to the SQLite database\n",
    "try:\n",
    "    print(\"Starting the connection process...\")\n",
    "    conn, cursor = connect_to_db()\n",
    "\n",
    "    # Create the table to store user data\n",
    "    print(\"Creating table 'content_data'...\")\n",
    "    cursor.execute(\"\"\"\n",
    "    CREATE TABLE IF NOT EXISTS content_data (\n",
    "        user_id INTEGER PRIMARY KEY,\n",
    "        prompt TEXT,\n",
    "        video_paths TEXT,\n",
    "        image_paths TEXT,\n",
    "        status TEXT,\n",
    "        generated_at TIMESTAMP\n",
    "    )\n",
    "    \"\"\")\n",
    "\n",
    "    # Your insert_content, update_status, and other functions here...\n",
    "\n",
    "    # Test with a sample user\n",
    "    user_id = 1\n",
    "    prompt = \"Generate a short animation and an image for a Christmas theme.\"\n",
    "\n",
    "    # Simulate content generation for the user\n",
    "    print(\"Simulating content generation...\")\n",
    "    generate_content(user_id, prompt)\n",
    "\n",
    "except Exception as e:\n",
    "    print(f\"Failed to execute content generation: {e}\")\n",
    "finally:\n",
    "    # Ensure the connection is closed if it was successful\n",
    "    if 'conn' in locals():\n",
    "        print(\"Closing the database connection.\")\n",
    "        conn.close()\n",
    "\n"
   ]
  },
  {
   "cell_type": "markdown",
   "id": "da459bd6-0173-4678-aa5d-1675e6a6c06e",
   "metadata": {},
   "source": [
    "# Part 3: User Access and Web Page Display"
   ]
  },
  {
   "cell_type": "code",
   "execution_count": 32,
   "id": "bec231c6-eea3-467f-a547-9c66f1f69993",
   "metadata": {},
   "outputs": [],
   "source": [
    "import os\n",
    "import sqlite3\n",
    "from flask import Flask, render_template, request, redirect, url_for"
   ]
  },
  {
   "cell_type": "code",
   "execution_count": null,
   "id": "4b9e9874-d0ff-4b44-a05b-36da1e1a946c",
   "metadata": {},
   "outputs": [],
   "source": [
    "# Initialize Flask app"
   ]
  },
  {
   "cell_type": "code",
   "execution_count": 34,
   "id": "553960ad-cabf-46fe-b598-5ebd2568a303",
   "metadata": {},
   "outputs": [],
   "source": [
    "app = Flask(__name__)"
   ]
  },
  {
   "cell_type": "code",
   "execution_count": null,
   "id": "213ed173-b026-4915-a31d-5140f33da9d5",
   "metadata": {},
   "outputs": [],
   "source": [
    "# Database setup (SQLite in-memory for simplicity)"
   ]
  },
  {
   "cell_type": "code",
   "execution_count": 36,
   "id": "e3a10b05-8baf-4bb4-b14b-f8d1f3ba6b71",
   "metadata": {},
   "outputs": [],
   "source": [
    "def init_db():\n",
    "    conn = sqlite3.connect('user_content.db')\n",
    "    c = conn.cursor()\n",
    "    c.execute('''CREATE TABLE IF NOT EXISTS users\n",
    "                 (user_id TEXT PRIMARY KEY, logged_in INTEGER)''')\n",
    "    c.execute('''CREATE TABLE IF NOT EXISTS content_views\n",
    "                 (user_id TEXT, content_type TEXT, content_id TEXT, timestamp DATETIME DEFAULT CURRENT_TIMESTAMP)''')\n",
    "    conn.commit()\n",
    "    conn.close()"
   ]
  },
  {
   "cell_type": "code",
   "execution_count": null,
   "id": "9ba6d739-b9a4-4f79-bb68-5fa587820218",
   "metadata": {},
   "outputs": [],
   "source": [
    "# Function to log user login attempts"
   ]
  },
  {
   "cell_type": "code",
   "execution_count": 38,
   "id": "161a4bfa-6733-463d-8ffb-5f8a67f6528f",
   "metadata": {},
   "outputs": [],
   "source": [
    "def log_user_login(user_id):\n",
    "    conn = sqlite3.connect('user_content.db')\n",
    "    c = conn.cursor()\n",
    "    c.execute(\"INSERT INTO users (user_id, logged_in) VALUES (?, ?)\", (user_id, 1))\n",
    "    conn.commit()\n",
    "    conn.close()"
   ]
  },
  {
   "cell_type": "code",
   "execution_count": null,
   "id": "44d6b0e8-fa09-49b2-8752-5af5c2fa5000",
   "metadata": {},
   "outputs": [],
   "source": [
    "# Function to log content views"
   ]
  },
  {
   "cell_type": "code",
   "execution_count": 40,
   "id": "3b494675-3f5f-4c20-a806-eb3291521d1e",
   "metadata": {},
   "outputs": [],
   "source": [
    "def log_content_view(user_id, content_type, content_id):\n",
    "    conn = sqlite3.connect('user_content.db')\n",
    "    c = conn.cursor()\n",
    "    c.execute(\"INSERT INTO content_views (user_id, content_type, content_id) VALUES (?, ?, ?)\", (user_id, content_type, content_id))\n",
    "    conn.commit()\n",
    "    conn.close()"
   ]
  },
  {
   "cell_type": "code",
   "execution_count": 42,
   "id": "7d8f2c18-8219-47a5-8b93-9a9e546972f7",
   "metadata": {},
   "outputs": [],
   "source": [
    "videos = [\"video1.mp4\", \"video2.mp4\", \"video3.mp4\"]\n",
    "images = [\"image1.jpg\", \"image2.jpg\", \"image3.jpg\"]"
   ]
  },
  {
   "cell_type": "code",
   "execution_count": null,
   "id": "42eacf32-3aef-4865-9dfc-3b9794d16991",
   "metadata": {},
   "outputs": [],
   "source": [
    "# Route for the login page"
   ]
  },
  {
   "cell_type": "code",
   "execution_count": 44,
   "id": "9ce8de51-d438-43aa-b6d2-46fbd8aad994",
   "metadata": {},
   "outputs": [],
   "source": [
    "@app.route('/login', methods=['GET', 'POST'])\n",
    "def login():\n",
    "    if request.method == 'POST':\n",
    "        user_id = request.form['user_id']\n",
    "        log_user_login(user_id)\n",
    "        return redirect(url_for('dashboard', user_id=user_id))\n",
    "    return render_template('login.html')"
   ]
  },
  {
   "cell_type": "code",
   "execution_count": null,
   "id": "91822a17-1128-4fcb-96ca-565c97773f45",
   "metadata": {},
   "outputs": [],
   "source": [
    "# Route for the dashboard (display content)"
   ]
  },
  {
   "cell_type": "code",
   "execution_count": 46,
   "id": "e8068584-6c32-4e67-80d9-98ef23a1b18c",
   "metadata": {},
   "outputs": [],
   "source": [
    "@app.route('/dashboard/<user_id>', methods=['GET'])\n",
    "def dashboard(user_id):\n",
    "    # Log content view\n",
    "    log_content_view(user_id, \"video\", \"video1\") \n",
    "    log_content_view(user_id, \"image\", \"image1\") \n",
    "    content_status = \"completed\"  \n",
    "    if content_status == \"completed\":\n",
    "        return render_template('dashboard.html', videos=videos, images=images, user_id=user_id)\n",
    "    else:\n",
    "        return render_template('content_processing.html', user_id=user_id)"
   ]
  },
  {
   "cell_type": "code",
   "execution_count": null,
   "id": "5b9ccff4-adc9-4f6a-b6c2-462e6afb5eff",
   "metadata": {},
   "outputs": [],
   "source": [
    "# Route for user logout"
   ]
  },
  {
   "cell_type": "code",
   "execution_count": 48,
   "id": "0de4968c-17ef-4cf5-9a03-8cad63225924",
   "metadata": {},
   "outputs": [],
   "source": [
    "@app.route('/logout', methods=['GET'])\n",
    "def logout():\n",
    "    return redirect(url_for('login'))"
   ]
  },
  {
   "cell_type": "code",
   "execution_count": null,
   "id": "10fa9e34-db1b-4fde-9dee-1b64c0cbcf76",
   "metadata": {},
   "outputs": [],
   "source": [
    "# Start the Flask application"
   ]
  },
  {
   "cell_type": "code",
   "execution_count": null,
   "id": "4e1b644c-84ca-45dd-b1b5-203806852998",
   "metadata": {},
   "outputs": [
    {
     "name": "stdout",
     "output_type": "stream",
     "text": [
      " * Serving Flask app '__main__'\n",
      " * Debug mode: on\n"
     ]
    },
    {
     "name": "stderr",
     "output_type": "stream",
     "text": [
      "WARNING: This is a development server. Do not use it in a production deployment. Use a production WSGI server instead.\n",
      " * Running on http://127.0.0.1:5000\n",
      "Press CTRL+C to quit\n"
     ]
    }
   ],
   "source": [
    "  if __name__ == \"__main__\":\n",
    "    init_db()\n",
    "    app.run(debug=True, use_reloader=False)"
   ]
  },
  {
   "cell_type": "markdown",
   "id": "fe257a70-647b-4b09-a899-f6146c5f3a77",
   "metadata": {},
   "source": [
    "# Part 4: Notifications"
   ]
  },
  {
   "cell_type": "code",
   "execution_count": 52,
   "id": "c07f5bfa-ec05-4c77-bf03-d961964257a9",
   "metadata": {},
   "outputs": [
    {
     "name": "stdout",
     "output_type": "stream",
     "text": [
      "Defaulting to user installation because normal site-packages is not writeable\n",
      "Collecting plyer\n",
      "  Downloading plyer-2.1.0-py2.py3-none-any.whl.metadata (61 kB)\n",
      "     ---------------------------------------- 0.0/61.2 kB ? eta -:--:--\n",
      "     ------ --------------------------------- 10.2/61.2 kB ? eta -:--:--\n",
      "     ------ --------------------------------- 10.2/61.2 kB ? eta -:--:--\n",
      "     ------------ ------------------------- 20.5/61.2 kB 131.3 kB/s eta 0:00:01\n",
      "     ------------------------- ------------ 41.0/61.2 kB 196.9 kB/s eta 0:00:01\n",
      "     -------------------------------------- 61.2/61.2 kB 250.8 kB/s eta 0:00:00\n",
      "Downloading plyer-2.1.0-py2.py3-none-any.whl (142 kB)\n",
      "   ---------------------------------------- 0.0/142.3 kB ? eta -:--:--\n",
      "   ---------------------------------------- 142.3/142.3 kB 4.3 MB/s eta 0:00:00\n",
      "Installing collected packages: plyer\n",
      "Successfully installed plyer-2.1.0\n",
      "Waiting for the notification time: 2024-12-06 15:53:09\n",
      "Failed to send email: (535, b'5.7.8 Username and Password not accepted. For more information, go to\\n5.7.8  https://support.google.com/mail/?p=BadCredentials d9443c01a7336-215f8e64457sm25740325ad.107 - gsmtp')\n",
      "Notification sent to user 1 at 2024-12-06 15:53:10.813431.\n"
     ]
    }
   ],
   "source": [
    "!pip install plyer\n",
    "\n",
    "import smtplib\n",
    "from datetime import datetime, timedelta\n",
    "import time\n",
    "import os\n",
    "from plyer import notification\n",
    "def get_content_by_user_id(user_id):\n",
    "  \n",
    "    return {\"user_id\": user_id, \"status\": \"Completed\", \"prompt\": \"Generate a short animation for a Christmas theme.\"}\n",
    "\n",
    "# Function to send email\n",
    "def send_email(to_email, subject, body):\n",
    "  \n",
    "    from_email = \"your_email@gmail.com\"  \n",
    "    from_password = \"your_email_password\" \n",
    "    \n",
    "    try:\n",
    "        server = smtplib.SMTP_SSL(\"smtp.gmail.com\", 465)  \n",
    "        server.login(from_email, from_password)\n",
    "        message = f\"Subject: {subject}\\n\\n{body}\"\n",
    "        server.sendmail(from_email, to_email, message)\n",
    "        server.quit()\n",
    "        print(\"Email sent successfully.\")\n",
    "    except Exception as e:\n",
    "        print(f\"Failed to send email: {e}\")\n",
    "\n",
    "def send_system_notification(user_id, content_url):\n",
    "    notification.notify(\n",
    "        title=f\"Content for User {user_id} is Ready!\",\n",
    "        message=f\"Your content is ready! You can view it here: {content_url}\",\n",
    "        timeout=10 \n",
    "    )\n",
    "\n",
    "\n",
    "def schedule_notification(user_id, email, content_url, notification_time):\n",
    "   \n",
    "    current_time = datetime.now()\n",
    "    \n",
    "    # Calculate the time difference between now and the notification time\n",
    "    notification_time = datetime.strptime(notification_time, \"%Y-%m-%d %H:%M:%S\")\n",
    "    \n",
    "    if notification_time > current_time:\n",
    "        # Calculate how long to wait\n",
    "        wait_time = (notification_time - current_time).total_seconds()\n",
    "        print(f\"Waiting for the notification time: {notification_time}\")\n",
    "        \n",
    "        # Wait until the specified time\n",
    "        time.sleep(wait_time)\n",
    "    \n",
    "    # Now send the notification (email or system)\n",
    "    send_email(email, \"Your Content is Ready\", f\"Hello, your content is ready! View it at {content_url}\")\n",
    "    send_system_notification(user_id, content_url)\n",
    "    print(f\"Notification sent to user {user_id} at {datetime.now()}.\")\n",
    "\n",
    "\n",
    "user_id = 1\n",
    "email = \"user_email@example.com\"  \n",
    "content_url = \"http://example.com/content/1\"  \n",
    "# Set the notification time (in the format: \"YYYY-MM-DD HH:MM:SS\")\n",
    "notification_time = (datetime.now() + timedelta(seconds=10)).strftime(\"%Y-%m-%d %H:%M:%S\")  # Notify after 10 seconds\n",
    "\n",
    "# Schedule the notification for a future time\n",
    "schedule_notification(user_id, email, content_url, notification_time)\n"
   ]
  }
 ],
 "metadata": {
  "kernelspec": {
   "display_name": "Python 3 (ipykernel)",
   "language": "python",
   "name": "python3"
  },
  "language_info": {
   "codemirror_mode": {
    "name": "ipython",
    "version": 3
   },
   "file_extension": ".py",
   "mimetype": "text/x-python",
   "name": "python",
   "nbconvert_exporter": "python",
   "pygments_lexer": "ipython3",
   "version": "3.11.7"
  }
 },
 "nbformat": 4,
 "nbformat_minor": 5
}
